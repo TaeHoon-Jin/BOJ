{
 "cells": [
  {
   "cell_type": "code",
   "execution_count": 4,
   "metadata": {},
   "outputs": [],
   "source": [
    "import time"
   ]
  },
  {
   "cell_type": "code",
   "execution_count": 8,
   "metadata": {
    "scrolled": true
   },
   "outputs": [
    {
     "name": "stdout",
     "output_type": "stream",
     "text": [
      "2 4\n",
      "7 3 1 8\n",
      "3 3 3 4\n",
      "3\n",
      "6.134425401687622\n"
     ]
    }
   ],
   "source": [
    "start_time = time.time()\n",
    "n , m = map(int,input().split())\n",
    "\n",
    "result = 0\n",
    "\n",
    "for i in range(n):\n",
    "    data = list(map(int,input().split()))\n",
    "    min_value = min(data)\n",
    "    result = max(result, min_value)\n",
    "    \n",
    "print(result)\n",
    "\n",
    "end_time = time.time()\n",
    "\n",
    "print(end_time - start_time)"
   ]
  },
  {
   "cell_type": "code",
   "execution_count": 12,
   "metadata": {},
   "outputs": [
    {
     "name": "stdout",
     "output_type": "stream",
     "text": [
      "2 4\n",
      "7 3 1 8\n",
      "1\n"
     ]
    }
   ],
   "source": [
    "n, m = map(int, input().split())\n",
    "result = 0\n",
    "data = list(map(int,input().split()))\n",
    "min_value = min(data)\n",
    "result = max(result, min_value)\n",
    "print(result)"
   ]
  },
  {
   "cell_type": "code",
   "execution_count": 7,
   "metadata": {},
   "outputs": [
    {
     "name": "stdout",
     "output_type": "stream",
     "text": [
      "2 4\n",
      "7 3 1 8\n",
      "3 3 3 4\n",
      "3\n",
      "5.221093416213989\n"
     ]
    }
   ],
   "source": [
    "start_time = time.time()\n",
    "\n",
    "n, m = map(int,input().split())\n",
    "\n",
    "result = 0\n",
    "\n",
    "for i in range(n):\n",
    "    data = list(map(int, input().split()))\n",
    "    # 현재 줄에서 가장 작은 수 찾기\n",
    "    min_value = 10001\n",
    "    for a in data:\n",
    "        min_value = min(min_value, a)\n",
    "    result = max(result, min_value)\n",
    "print(result)\n",
    "\n",
    "end_time = time.time()\n",
    "\n",
    "print(end_time - start_time)"
   ]
  },
  {
   "cell_type": "markdown",
   "metadata": {},
   "source": [
    "설탕배달"
   ]
  },
  {
   "cell_type": "code",
   "execution_count": 4,
   "metadata": {},
   "outputs": [
    {
     "name": "stdout",
     "output_type": "stream",
     "text": [
      "26\n",
      "6\n"
     ]
    }
   ],
   "source": [
    "n = int(input())\n",
    "F = n//5\n",
    "n%=5\n",
    "T = 0\n",
    "while F>=0:\n",
    "    if n%3 == 0:\n",
    "        T = n//3\n",
    "        n = n%3\n",
    "        break\n",
    "    F-=1\n",
    "    n+=5\n",
    "print((n==0) and (F+T) or -1)\n"
   ]
  },
  {
   "cell_type": "code",
   "execution_count": 5,
   "metadata": {},
   "outputs": [
    {
     "name": "stdout",
     "output_type": "stream",
     "text": [
      "26\n",
      "6\n"
     ]
    }
   ],
   "source": [
    "# N = (x*5) + (y*3) 이 되도록 하는 x+y의 최소값을 구하는 문제\n",
    "\n",
    "def sugar(N) :\n",
    "    for y in range( (N//3)+1) :\n",
    "        for x in range( (N//5)+1 ) :\n",
    "            if ((5*x + 3*y) == N) :\n",
    "                return x+y\n",
    "            \n",
    "    return -1\n",
    "\n",
    "N = int(input()) #배달해야할 설탕 킬로그램         \n",
    "print(sugar(N))"
   ]
  },
  {
   "cell_type": "markdown",
   "metadata": {},
   "source": [
    "ATM"
   ]
  },
  {
   "cell_type": "code",
   "execution_count": 10,
   "metadata": {},
   "outputs": [
    {
     "data": {
      "text/plain": [
       "[1, 2, 3, 4, 5]"
      ]
     },
     "execution_count": 10,
     "metadata": {},
     "output_type": "execute_result"
    }
   ],
   "source": [
    "x"
   ]
  },
  {
   "cell_type": "code",
   "execution_count": 16,
   "metadata": {},
   "outputs": [
    {
     "name": "stdout",
     "output_type": "stream",
     "text": [
      "5\n",
      "1 2 3 4 5\n",
      "35\n"
     ]
    }
   ],
   "source": [
    "n = int(input())\n",
    "h = list(map(int, input().split()))\n",
    "\n",
    "h.sort()\n",
    "result = 0\n",
    "for i in range(n):\n",
    "    for j in range(i+1):\n",
    "        result += h[j]\n",
    "print(result)"
   ]
  },
  {
   "cell_type": "markdown",
   "metadata": {},
   "source": [
    "동전(거스름돈과 유사)"
   ]
  },
  {
   "cell_type": "code",
   "execution_count": 25,
   "metadata": {
    "scrolled": true
   },
   "outputs": [
    {
     "name": "stdout",
     "output_type": "stream",
     "text": [
      "10 4211\n",
      "1\n",
      "5\n",
      "10\n",
      "50\n",
      "100\n",
      "500\n",
      "1000\n",
      "5000\n",
      "10000\n",
      "50000\n",
      "8\n"
     ]
    }
   ],
   "source": [
    "n,k = map(int,input().split())\n",
    "coin_types = []\n",
    "count = 0\n",
    "\n",
    "for i in range(n):\n",
    "    coin_types.append(int(input()))\n",
    "\n",
    "for i in range(n):\n",
    "    count += k // coin_types[-1-i]\n",
    "    k = k % coin_types[-1-i]\n",
    "\n",
    "print(count)"
   ]
  },
  {
   "cell_type": "code",
   "execution_count": 27,
   "metadata": {},
   "outputs": [
    {
     "name": "stdout",
     "output_type": "stream",
     "text": [
      "10 4200\n",
      "1 5 10 50 100 500 1000 5000 10000 50000\n",
      "6\n"
     ]
    }
   ],
   "source": [
    "n,k = map(int,input().split())\n",
    "coin_types = list(map(int,input().split()))\n",
    "count = 0\n",
    "\n",
    "# for i in range(n):\n",
    "#     coin_types.append(int(input()))\n",
    "\n",
    "for i in range(n):\n",
    "    count += k // coin_types[-1-i]\n",
    "    k = k % coin_types[-1-i]\n",
    "\n",
    "print(count)\n"
   ]
  },
  {
   "cell_type": "markdown",
   "metadata": {},
   "source": [
    "회의실"
   ]
  },
  {
   "cell_type": "code",
   "execution_count": 28,
   "metadata": {
    "scrolled": false
   },
   "outputs": [
    {
     "name": "stdout",
     "output_type": "stream",
     "text": [
      "11\n",
      "1 4\n",
      "3 5\n",
      "0 6\n",
      "5 7\n",
      "3 8\n",
      "5 9\n",
      "6 10\n",
      "8 11\n",
      "8 12\n",
      "2 13\n",
      "12 14\n",
      "4\n"
     ]
    }
   ],
   "source": [
    "n = int(input())\n",
    "s = []\n",
    "for i in range(n):\n",
    "    start, end = map(int, input().split())\n",
    "    s.append([start, end])\n",
    "s = sorted(s, key=lambda a: a[0])\n",
    "s = sorted(s, key=lambda a: a[1])\n",
    "last = 0\n",
    "cnt = 0\n",
    "for i, j in s:\n",
    "    if i >= last:\n",
    "        cnt += 1\n",
    "        last = j\n",
    "print(cnt)"
   ]
  },
  {
   "cell_type": "markdown",
   "metadata": {},
   "source": [
    "잃어버린 괄호"
   ]
  },
  {
   "cell_type": "code",
   "execution_count": 179,
   "metadata": {},
   "outputs": [
    {
     "name": "stdout",
     "output_type": "stream",
     "text": [
      "55-35+40+20-50\n",
      "[55, 95, 50]\n"
     ]
    }
   ],
   "source": [
    "a = input().split('-')\n",
    "# print(a)\n",
    "num = []\n",
    "for i in a:\n",
    "    count = 0\n",
    "    s = i.split('+')\n",
    "    for j in s:\n",
    "        count += int(j)\n",
    "    num.append(count)\n",
    "n = num[0]\n",
    "for i in range(1, len(num)):\n",
    "    n -= num[i]\n",
    "print(n)"
   ]
  },
  {
   "cell_type": "markdown",
   "metadata": {},
   "source": [
    "거스름돈"
   ]
  },
  {
   "cell_type": "markdown",
   "metadata": {},
   "source": [
    "타로는 자주 JOI잡화점에서 물건을 산다.\n",
    "\n",
    "JOI잡화점에는 잔돈으로 500엔, 100엔, 50엔, 10엔, 5엔, 1엔이 충분히 있고,\n",
    "\n",
    "언제나 거스름돈 개수가 가장 적게 잔돈을 준다.\n",
    "\n",
    "타로가 JOI잡화점에서 물건을 사고 카운터에서 1000엔 지폐를 한장 냈을 때,\n",
    "\n",
    "받을 잔돈에 포함된 잔돈의 개수를 구하는 프로그램을 작성하시오."
   ]
  },
  {
   "cell_type": "code",
   "execution_count": 184,
   "metadata": {},
   "outputs": [
    {
     "name": "stdout",
     "output_type": "stream",
     "text": [
      "380\n",
      "4\n"
     ]
    }
   ],
   "source": [
    "# n = int(input())\n",
    "k = 1000-int(input())\n",
    "count = 0\n",
    "coin_types = [500,100,50,10,5,1]\n",
    "for coin in coin_types:\n",
    "    count += k // coin\n",
    "    k %= coin\n",
    "print(count)"
   ]
  },
  {
   "cell_type": "markdown",
   "metadata": {},
   "source": [
    "로프"
   ]
  },
  {
   "cell_type": "markdown",
   "metadata": {},
   "source": [
    "N(1≤N≤100,000)개의 로프가 있다. 이 로프를 이용하여 이런 저런 물체를 들어올릴 수 있다. 각각의 로프는 그 굵기나 길이가 다르기 때문에 들 수 있는 물체의 중량이 서로 다를 수도 있다.\n",
    "\n",
    "하지만 여러 개의 로프를 병렬로 연결하면 각각의 로프에 걸리는 중량을 나눌 수 있다. k개의 로프를 사용하여 중량이 w인 물체를 들어올릴 때, 각각의 로프에는 모두 고르게 w/k 만큼의 중량이 걸리게 된다.\n",
    "\n",
    "각 로프들에 대한 정보가 주어졌을 때, 이 로프들을 이용하여 들어올릴 수 있는 물체의 최대 중량을 구해내는 프로그램을 작성하시오. 모든 로프를 사용해야 할 필요는 없으며, 임의로 몇 개의 로프를 골라서 사용해도 된다."
   ]
  },
  {
   "cell_type": "code",
   "execution_count": 201,
   "metadata": {
    "scrolled": true
   },
   "outputs": [
    {
     "name": "stdout",
     "output_type": "stream",
     "text": [
      "2\n",
      "15\n",
      "10\n",
      "20\n"
     ]
    }
   ],
   "source": [
    "n = int(input())\n",
    "rope = []\n",
    "value = []\n",
    "for _ in range(n):\n",
    "    rope.append(int(input()))    \n",
    "rope.sort(reverse = True)\n",
    "for i in range(n):\n",
    "    value.append(rope[i]*(i+1))\n",
    "\n",
    "print(max(value))"
   ]
  },
  {
   "cell_type": "markdown",
   "metadata": {},
   "source": [
    "신입사원"
   ]
  },
  {
   "cell_type": "markdown",
   "metadata": {},
   "source": [
    "진영 주식회사는, 다른 모든 지원자와 비교했을 때 서류심사 성적과 면접시험 성적 중 적어도 하나가 다른 지원자보다 떨어지지 않는 자만 선발한다\n",
    "\n",
    "는 원칙을 세웠다. 즉, 어떤 지원자 A의 성적이 다른 어떤 지원자 B의 성적에 비해 서류 심사 결과와 면접 성적이 모두 떨어진다면 A는 결코 선발되\n",
    "\n",
    "지 않는다.\n",
    "\n",
    "이러한 조건을 만족시키면서, 진영 주식회사가 이번 신규 사원 채용에서 선발할 수 있는 신입사원의 최대 인원수를 구하는 프로그램을 작성하시오."
   ]
  },
  {
   "cell_type": "code",
   "execution_count": null,
   "metadata": {},
   "outputs": [],
   "source": [
    "import sys\n",
    "input = sys.stdin.readline\n",
    "t = int(input())\n",
    "for i in range(t):\n",
    "    n = int(input())\n",
    "    s = [0 for i in range(n + 1)]\n",
    "    for j in range(n):\n",
    "        a, b = map(int, input().split())\n",
    "        s[a] = b ## 서류 성적으로 sort(오름차순)\n",
    "    min_n = s[1] # 서류1등의 면접성적 기준\n",
    "    cnt = 0\n",
    "    for k in range(2, n + 1):  # 서류1등은 일단 뽑는다.\n",
    "        if s[k] > min_n: # 서류2등부터 꼴등을 서류 1등과 면접성적을 비교해보고 면접성적 순위가 더 낮으면 카운트(불합격)\n",
    "            cnt += 1\n",
    "        else:\n",
    "            min_n = s[k]  # 면접성적 순위가 더 높으면 그 사람 기준으로 다시 반복 실행       \n",
    "    print(n - cnt) # 전체 지원자 수에서 떨어진 사람을 뺌"
   ]
  },
  {
   "cell_type": "markdown",
   "metadata": {},
   "source": [
    "단어 수학(잘 이해가 안됨, 나중에 다시 보기)"
   ]
  },
  {
   "cell_type": "code",
   "execution_count": null,
   "metadata": {},
   "outputs": [],
   "source": [
    "wordNum = input()\n",
    "word = []\n",
    "for i in range(int(wordNum)):\n",
    "    temp = input()\n",
    "    word.append(list(temp))\n",
    "number = [9, 8, 7, 6, 5, 4, 3, 2, 1, 0]\n",
    " \n",
    "charDic = {}\n",
    "for i in range(len(word)):\n",
    "    for j in range(len(word[i])):\n",
    "        if word[i][j] not in charDic:\n",
    "            charDic[word[i][j]] = pow(10, len(word[i])-j-1)\n",
    "        else:\n",
    "            charDic[word[i][j]] += pow(10, len(word[i])-j-1)\n",
    " \n",
    "    keyList = list(charDic.keys())\n",
    "for i in range(len(keyList)-1):\n",
    "    big = i\n",
    "    for j in range(len(keyList)-i-1):\n",
    "        if charDic[keyList[j]] < charDic[keyList[j+1]]:\n",
    "            keyList[j], keyList[j+1] = keyList[j+1], keyList[j]\n",
    " \n",
    "    result = 0\n",
    "for i in keyList:\n",
    "    result += number.pop(0) * charDic[i]\n",
    " \n",
    "    print(result)\n"
   ]
  },
  {
   "cell_type": "code",
   "execution_count": null,
   "metadata": {},
   "outputs": [],
   "source": []
  }
 ],
 "metadata": {
  "kernelspec": {
   "display_name": "Python 3",
   "language": "python",
   "name": "python3"
  },
  "language_info": {
   "codemirror_mode": {
    "name": "ipython",
    "version": 3
   },
   "file_extension": ".py",
   "mimetype": "text/x-python",
   "name": "python",
   "nbconvert_exporter": "python",
   "pygments_lexer": "ipython3",
   "version": "3.8.3"
  }
 },
 "nbformat": 4,
 "nbformat_minor": 4
}
