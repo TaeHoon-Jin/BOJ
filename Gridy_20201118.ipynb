{
 "cells": [
  {
   "cell_type": "markdown",
   "metadata": {},
   "source": [
    "한줄로 서기"
   ]
  },
  {
   "cell_type": "code",
   "execution_count": 12,
   "metadata": {},
   "outputs": [
    {
     "name": "stdout",
     "output_type": "stream",
     "text": [
      "4\n",
      "2 1 1 0\n",
      "4 2 1 3\n"
     ]
    }
   ],
   "source": [
    "n = int(input())\n",
    "h = list(map(int, input().split()))\n",
    "ans = [0 for _ in range(n)]\n",
    "\n",
    "for p in range(1, n+1):\n",
    "    t = h[p-1]\n",
    "    cnt = 0\n",
    "    for i in range(n):\n",
    "        if cnt == t and ans[i] == 0:\n",
    "            ans[i] = p\n",
    "            break\n",
    "        elif ans[i] == 0:\n",
    "             cnt += 1\n",
    "print(*ans)"
   ]
  },
  {
   "cell_type": "markdown",
   "metadata": {},
   "source": [
    "수 묶기"
   ]
  },
  {
   "cell_type": "code",
   "execution_count": 46,
   "metadata": {},
   "outputs": [
    {
     "name": "stdout",
     "output_type": "stream",
     "text": [
      "4\n",
      "-1\n",
      "2\n",
      "1\n",
      "3\n",
      "6\n"
     ]
    }
   ],
   "source": [
    "import sys\n",
    "\n",
    "n = int(input())\n",
    "\n",
    "nums = [int(input()) for _ in range(n)]\n",
    "pos = []\n",
    "neg = []\n",
    "count = 0\n",
    "for num in nums:\n",
    "    if num <= 0 :\n",
    "        neg.append(num)\n",
    "    elif num > 1:\n",
    "        pos.append(num)\n",
    "    else:\n",
    "        count += 1\n",
    "neg.sort()\n",
    "pos.sort(reverse = True)\n",
    "\n",
    "for i in range(0,len(neg),2):\n",
    "    if i+1 < len(neg):\n",
    "        count += neg[i]*neg[i+1]\n",
    "    else:\n",
    "        count += neg[i]\n",
    "\n",
    "for i in range(0,len(pos),2):\n",
    "    if i+1 < len(pos):\n",
    "        count += pos[i] * pos[i+1]\n",
    "    else:\n",
    "        count += pos[i]\n",
    "print(count)"
   ]
  },
  {
   "cell_type": "markdown",
   "metadata": {},
   "source": [
    "캠핑 (두가지 답 모두 정답임)"
   ]
  },
  {
   "cell_type": "code",
   "execution_count": 55,
   "metadata": {
    "scrolled": false
   },
   "outputs": [
    {
     "name": "stdout",
     "output_type": "stream",
     "text": [
      "5 8 20\n",
      "Case 1: 14\n",
      "0 0 0\n"
     ]
    }
   ],
   "source": [
    "i = 1\n",
    "while True:\n",
    "    L, P, V = map(int, input().split())\n",
    "    if L + P+ V ==0:\n",
    "        break\n",
    "    count = (V//P) * L\n",
    "    count += min(V%P,L)\n",
    "    print(\"Case %d: %d\"%(i,count))\n",
    "    i +=1"
   ]
  },
  {
   "cell_type": "code",
   "execution_count": 56,
   "metadata": {},
   "outputs": [
    {
     "name": "stdout",
     "output_type": "stream",
     "text": [
      "5 8 20\n",
      "Case 1: 14\n",
      "0 0 0\n"
     ]
    }
   ],
   "source": [
    "i = 1\n",
    "while True:\n",
    "    count = 0\n",
    "    L, P, V = map(int, input().split())\n",
    "    if L + P+ V ==0:\n",
    "        break\n",
    "    \n",
    "    elif V%P <= L:\n",
    "            count += (V//P)*L + (V%P)\n",
    "    elif V%P > L:\n",
    "            count += (V//P)*L + L\n",
    "    print(\"Case %d: %d\"%(i,count))\n",
    "    i +=1"
   ]
  },
  {
   "cell_type": "code",
   "execution_count": null,
   "metadata": {},
   "outputs": [],
   "source": []
  }
 ],
 "metadata": {
  "kernelspec": {
   "display_name": "Python 3",
   "language": "python",
   "name": "python3"
  },
  "language_info": {
   "codemirror_mode": {
    "name": "ipython",
    "version": 3
   },
   "file_extension": ".py",
   "mimetype": "text/x-python",
   "name": "python",
   "nbconvert_exporter": "python",
   "pygments_lexer": "ipython3",
   "version": "3.8.3"
  }
 },
 "nbformat": 4,
 "nbformat_minor": 4
}
