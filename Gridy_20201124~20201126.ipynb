{
 "cells": [
  {
   "cell_type": "markdown",
   "metadata": {},
   "source": [
    "저울"
   ]
  },
  {
   "cell_type": "code",
   "execution_count": 3,
   "metadata": {},
   "outputs": [
    {
     "name": "stdout",
     "output_type": "stream",
     "text": [
      "7\n",
      "3 1 6 2 7 30 1\n",
      "21\n"
     ]
    }
   ],
   "source": [
    "n = int(input())\n",
    "s = list(map(int, input().split()))\n",
    "s.sort()\n",
    "num = 1\n",
    "for i in range(n):\n",
    "    if num < s[i]:\n",
    "        break\n",
    "    num += s[i]\n",
    "print(num)"
   ]
  },
  {
   "cell_type": "markdown",
   "metadata": {},
   "source": [
    "수리공 항승"
   ]
  },
  {
   "cell_type": "code",
   "execution_count": 5,
   "metadata": {},
   "outputs": [
    {
     "name": "stdout",
     "output_type": "stream",
     "text": [
      "4 2\n",
      "1 2 100 101\n",
      "2\n"
     ]
    }
   ],
   "source": [
    "n, l = map(int, input().split())\n",
    "s = list(map(int, input().split()))\n",
    "s.sort()\n",
    "start = s[0]\n",
    "end = s[0] + l\n",
    "cnt = 1\n",
    "for i in range(n):\n",
    "    if start <= s[i] < end:\n",
    "        continue\n",
    "    else:\n",
    "        start = s[i]\n",
    "        end = s[i] + l\n",
    "        cnt += 1\n",
    "print(cnt)"
   ]
  },
  {
   "cell_type": "markdown",
   "metadata": {},
   "source": [
    "캥거루 세마리"
   ]
  },
  {
   "cell_type": "code",
   "execution_count": 45,
   "metadata": {},
   "outputs": [
    {
     "name": "stdout",
     "output_type": "stream",
     "text": [
      "3 5 9\n",
      "3\n"
     ]
    }
   ],
   "source": [
    "k = list(map(int, input().split()))\n",
    "\n",
    "cnt1 = k[1] - k[0]\n",
    "cnt2 = k[2] - k[1]\n",
    "print(max(cnt1,cnt2) - 1)"
   ]
  },
  {
   "cell_type": "code",
   "execution_count": null,
   "metadata": {},
   "outputs": [],
   "source": []
  }
 ],
 "metadata": {
  "kernelspec": {
   "display_name": "Python 3",
   "language": "python",
   "name": "python3"
  },
  "language_info": {
   "codemirror_mode": {
    "name": "ipython",
    "version": 3
   },
   "file_extension": ".py",
   "mimetype": "text/x-python",
   "name": "python",
   "nbconvert_exporter": "python",
   "pygments_lexer": "ipython3",
   "version": "3.8.3"
  }
 },
 "nbformat": 4,
 "nbformat_minor": 4
}
