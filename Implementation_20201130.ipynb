{
 "cells": [
  {
   "cell_type": "markdown",
   "metadata": {},
   "source": [
    "성지키기"
   ]
  },
  {
   "cell_type": "code",
   "execution_count": 1,
   "metadata": {},
   "outputs": [
    {
     "name": "stdout",
     "output_type": "stream",
     "text": [
      "4 4\n",
      "....\n",
      "....\n",
      "....\n",
      "....\n",
      "4\n"
     ]
    }
   ],
   "source": [
    "n,m = map(int,input().split())\n",
    "castle=[]\n",
    "\n",
    "for _ in range(n):\n",
    "    castle.append(input())\n",
    "\n",
    "row = []\n",
    "col = []\n",
    "\n",
    "for i in range(n):\n",
    "    row.append(\"X\" not in castle[i])\n",
    "\n",
    "for j in range(m):\n",
    "    col.append(\"X\" not in [castle[i][j] for i in range(n)])    \n",
    "\n",
    "print(max(sum(row),sum(col)))"
   ]
  },
  {
   "cell_type": "markdown",
   "metadata": {},
   "source": [
    "이진수 덧셈"
   ]
  },
  {
   "cell_type": "code",
   "execution_count": 18,
   "metadata": {
    "scrolled": true
   },
   "outputs": [
    {
     "name": "stdout",
     "output_type": "stream",
     "text": [
      "101010 11111\n",
      "1001001\n"
     ]
    }
   ],
   "source": [
    "n, m = map(str,input().split())\n",
    "n = int(n,2)\n",
    "m = int(m,2)\n",
    "num = n+m\n",
    "\n",
    "print(bin(num)[2:])"
   ]
  },
  {
   "cell_type": "markdown",
   "metadata": {},
   "source": [
    "펠린드롬수"
   ]
  },
  {
   "cell_type": "code",
   "execution_count": 25,
   "metadata": {},
   "outputs": [
    {
     "name": "stdout",
     "output_type": "stream",
     "text": [
      "12312\n",
      "no\n",
      "0\n"
     ]
    }
   ],
   "source": [
    "while True:\n",
    "    n = input()\n",
    "    if n == '0':\n",
    "        break\n",
    "    if n == n[::-1]:\n",
    "        print(\"yes\")\n",
    "    else:\n",
    "        print(\"no\")"
   ]
  },
  {
   "cell_type": "markdown",
   "metadata": {},
   "source": [
    "임시반장 정하기"
   ]
  },
  {
   "cell_type": "code",
   "execution_count": 44,
   "metadata": {},
   "outputs": [
    {
     "name": "stdout",
     "output_type": "stream",
     "text": [
      "5\n",
      "2 3 1 7 3\n",
      "4 1 9 6 8\n",
      "5 5 2 4 4\n",
      "6 5 2 6 7\n",
      "8 4 2 2 2\n",
      "4\n"
     ]
    }
   ],
   "source": [
    "n = int(input())\n",
    "student = [list(map(int,input().split())) for i in range(n)]\n",
    "cnt = [0 for _ in range(n)]\n",
    "for j in range(n):\n",
    "    visited = [False for _ in range(n)]\n",
    "    for i in range(5):\n",
    "        for student_id in range(n):\n",
    "            if j != student_id and student[j][i] == student[student_id][i]:\n",
    "                visited[student_id] = True\n",
    "    cnt[j] = len(list(filter(lambda x: x, visited)))\n",
    "print(cnt.index(max(cnt))+1)"
   ]
  },
  {
   "cell_type": "markdown",
   "metadata": {},
   "source": [
    "유진수"
   ]
  },
  {
   "cell_type": "code",
   "execution_count": null,
   "metadata": {},
   "outputs": [],
   "source": [
    "n = input()\n",
    "n_len = len(n)\n",
    "true = 0\n",
    "for i in range(n_len - 1):\n",
    "    left = 1\n",
    "    right = 1\n",
    "    for j in range(i + 1):\n",
    "        left *= int(n[j])\n",
    "    for k in range(i + 1, n_len):\n",
    "        right *= int(n[k])\n",
    "    if left == right:\n",
    "        print(\"YES\")\n",
    "        true = 1\n",
    "        break\n",
    "if true == 0:\n",
    "    print(\"NO\")"
   ]
  },
  {
   "cell_type": "code",
   "execution_count": null,
   "metadata": {},
   "outputs": [],
   "source": []
  }
 ],
 "metadata": {
  "kernelspec": {
   "display_name": "Python 3",
   "language": "python",
   "name": "python3"
  },
  "language_info": {
   "codemirror_mode": {
    "name": "ipython",
    "version": 3
   },
   "file_extension": ".py",
   "mimetype": "text/x-python",
   "name": "python",
   "nbconvert_exporter": "python",
   "pygments_lexer": "ipython3",
   "version": "3.8.3"
  }
 },
 "nbformat": 4,
 "nbformat_minor": 4
}
